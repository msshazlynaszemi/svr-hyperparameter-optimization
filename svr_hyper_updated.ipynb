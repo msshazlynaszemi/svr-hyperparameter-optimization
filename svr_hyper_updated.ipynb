{
 "cells": [
  {
   "cell_type": "markdown",
   "metadata": {},
   "source": [
    "# Hyperparameter prediction using SVR\n",
    "\n",
    "Using hyperparameter as input to predict `best_acc`.\n",
    "\n",
    "Input are:\n",
    "- `learning_rate`\n",
    "- `hyper`\n",
    "- `batch_size`\n",
    "- `filters_1`\n",
    "- `filters_2`\n",
    "- `full_hidd_1`\n",
    "- `full_hidd_2`\n",
    "- `ksize_1`\n",
    "- `ksize_2`\n",
    "- `no_epochs`\n",
    "\n",
    "\n",
    "Note: we have to remove `best_acc` and `best_loss` as those are not available during prediction time for training data"
   ]
  },
  {
   "cell_type": "markdown",
   "metadata": {},
   "source": [
    "## Table of content\n",
    "* [Importing libraries](#Importing-libraries-and-reading-from-csv-file)\n",
    "* [Preparing datasets](#Preparing-datasets)\n",
    "* [Feature scaling](#Feature-scaling) as of now is commented - is it required ? \n",
    "* [SVR Model training - poly](#Fitting-the-SVR-model)\n",
    "* [Splitting into train and test](#Splitting-the-data-into-train-and-test)\n",
    "* [PCA to visualize input](#Using-PCA-to-visualize-input-in-2D)"
   ]
  },
  {
   "cell_type": "markdown",
   "metadata": {},
   "source": [
    "### Importing libraries and reading from csv file"
   ]
  },
  {
   "cell_type": "code",
   "execution_count": 48,
   "metadata": {
    "ExecuteTime": {
     "end_time": "2019-07-20T04:09:17.647154Z",
     "start_time": "2019-07-20T04:09:17.641804Z"
    }
   },
   "outputs": [],
   "source": [
    "import numpy as np\n",
    "import pandas as pd\n",
    "import seaborn as sns\n",
    "import matplotlib.pyplot as plt\n",
    "\n",
    "from sklearn.svm import SVR\n",
    "from sklearn.metrics import r2_score\n",
    "from sklearn.decomposition import PCA\n",
    "from sklearn.model_selection import train_test_split\n",
    "\n",
    "sns.set(style=\"ticks\")"
   ]
  },
  {
   "cell_type": "code",
   "execution_count": 20,
   "metadata": {
    "ExecuteTime": {
     "end_time": "2019-07-20T03:49:20.971420Z",
     "start_time": "2019-07-20T03:49:20.955559Z"
    }
   },
   "outputs": [
    {
     "data": {
      "text/html": [
       "<div>\n",
       "<style scoped>\n",
       "    .dataframe tbody tr th:only-of-type {\n",
       "        vertical-align: middle;\n",
       "    }\n",
       "\n",
       "    .dataframe tbody tr th {\n",
       "        vertical-align: top;\n",
       "    }\n",
       "\n",
       "    .dataframe thead th {\n",
       "        text-align: right;\n",
       "    }\n",
       "</style>\n",
       "<table border=\"1\" class=\"dataframe\">\n",
       "  <thead>\n",
       "    <tr style=\"text-align: right;\">\n",
       "      <th></th>\n",
       "      <th>best_acc</th>\n",
       "      <th>learning_rate</th>\n",
       "      <th>hyper</th>\n",
       "      <th>batch_size</th>\n",
       "      <th>best_loss</th>\n",
       "      <th>filters_1</th>\n",
       "      <th>filters_2</th>\n",
       "      <th>full_hidd_1</th>\n",
       "      <th>full_hidd_2</th>\n",
       "      <th>ksize_1</th>\n",
       "      <th>ksize_2</th>\n",
       "      <th>no_epochs</th>\n",
       "    </tr>\n",
       "  </thead>\n",
       "  <tbody>\n",
       "    <tr>\n",
       "      <th>0</th>\n",
       "      <td>0.6085</td>\n",
       "      <td>0.001</td>\n",
       "      <td>6</td>\n",
       "      <td>256</td>\n",
       "      <td>1.124841</td>\n",
       "      <td>64</td>\n",
       "      <td>96</td>\n",
       "      <td>125</td>\n",
       "      <td>125</td>\n",
       "      <td>5</td>\n",
       "      <td>5</td>\n",
       "      <td>18</td>\n",
       "    </tr>\n",
       "    <tr>\n",
       "      <th>1</th>\n",
       "      <td>0.6002</td>\n",
       "      <td>0.001</td>\n",
       "      <td>5</td>\n",
       "      <td>128</td>\n",
       "      <td>1.142996</td>\n",
       "      <td>32</td>\n",
       "      <td>64</td>\n",
       "      <td>100</td>\n",
       "      <td>125</td>\n",
       "      <td>3</td>\n",
       "      <td>5</td>\n",
       "      <td>20</td>\n",
       "    </tr>\n",
       "    <tr>\n",
       "      <th>2</th>\n",
       "      <td>0.5978</td>\n",
       "      <td>0.001</td>\n",
       "      <td>0</td>\n",
       "      <td>32</td>\n",
       "      <td>1.147990</td>\n",
       "      <td>32</td>\n",
       "      <td>96</td>\n",
       "      <td>100</td>\n",
       "      <td>80</td>\n",
       "      <td>3</td>\n",
       "      <td>4</td>\n",
       "      <td>19</td>\n",
       "    </tr>\n",
       "    <tr>\n",
       "      <th>3</th>\n",
       "      <td>0.5903</td>\n",
       "      <td>0.001</td>\n",
       "      <td>25</td>\n",
       "      <td>64</td>\n",
       "      <td>1.196584</td>\n",
       "      <td>64</td>\n",
       "      <td>96</td>\n",
       "      <td>100</td>\n",
       "      <td>125</td>\n",
       "      <td>3</td>\n",
       "      <td>3</td>\n",
       "      <td>23</td>\n",
       "    </tr>\n",
       "    <tr>\n",
       "      <th>4</th>\n",
       "      <td>0.5806</td>\n",
       "      <td>0.001</td>\n",
       "      <td>3</td>\n",
       "      <td>256</td>\n",
       "      <td>1.192041</td>\n",
       "      <td>32</td>\n",
       "      <td>48</td>\n",
       "      <td>60</td>\n",
       "      <td>125</td>\n",
       "      <td>3</td>\n",
       "      <td>3</td>\n",
       "      <td>24</td>\n",
       "    </tr>\n",
       "  </tbody>\n",
       "</table>\n",
       "</div>"
      ],
      "text/plain": [
       "   best_acc  learning_rate  hyper  batch_size  best_loss  filters_1  \\\n",
       "0    0.6085          0.001      6         256   1.124841         64   \n",
       "1    0.6002          0.001      5         128   1.142996         32   \n",
       "2    0.5978          0.001      0          32   1.147990         32   \n",
       "3    0.5903          0.001     25          64   1.196584         64   \n",
       "4    0.5806          0.001      3         256   1.192041         32   \n",
       "\n",
       "   filters_2  full_hidd_1  full_hidd_2  ksize_1  ksize_2  no_epochs  \n",
       "0         96          125          125        5        5         18  \n",
       "1         64          100          125        3        5         20  \n",
       "2         96          100           80        3        4         19  \n",
       "3         96          100          125        3        3         23  \n",
       "4         48           60          125        3        3         24  "
      ]
     },
     "execution_count": 20,
     "metadata": {},
     "output_type": "execute_result"
    }
   ],
   "source": [
    "dataset = pd.read_csv('hyperp.csv')\n",
    "dataset.head()"
   ]
  },
  {
   "cell_type": "markdown",
   "metadata": {},
   "source": [
    "### Preparing datasets"
   ]
  },
  {
   "cell_type": "code",
   "execution_count": 22,
   "metadata": {
    "ExecuteTime": {
     "end_time": "2019-07-20T03:49:49.799991Z",
     "start_time": "2019-07-20T03:49:49.796837Z"
    }
   },
   "outputs": [],
   "source": [
    "input_cols = [\n",
    "    \"learning_rate\", \"hyper\",\n",
    "    \"batch_size\", \"filters_1\",\n",
    "    \"filters_2\", \"full_hidd_1\", \n",
    "    \"full_hidd_2\", \"ksize_1\", \n",
    "    \"ksize_2\", \"no_epochs\"\n",
    "]\n",
    "\n",
    "output_cols = [\"best_acc\"]"
   ]
  },
  {
   "cell_type": "code",
   "execution_count": 23,
   "metadata": {
    "ExecuteTime": {
     "end_time": "2019-07-20T03:49:50.093250Z",
     "start_time": "2019-07-20T03:49:50.087749Z"
    }
   },
   "outputs": [],
   "source": [
    "x = dataset[input_cols].values\n",
    "y = dataset[output_cols].values"
   ]
  },
  {
   "cell_type": "markdown",
   "metadata": {},
   "source": [
    "### Splitting the data into train and test"
   ]
  },
  {
   "cell_type": "code",
   "execution_count": 35,
   "metadata": {
    "ExecuteTime": {
     "end_time": "2019-07-20T03:53:28.738570Z",
     "start_time": "2019-07-20T03:53:28.734698Z"
    }
   },
   "outputs": [],
   "source": [
    "x_train, x_test, y_train, y_test = train_test_split(x, y, test_size=0.3, random_state=1)"
   ]
  },
  {
   "cell_type": "markdown",
   "metadata": {},
   "source": [
    "### Using PCA to visualize input in 2D"
   ]
  },
  {
   "cell_type": "code",
   "execution_count": 56,
   "metadata": {
    "ExecuteTime": {
     "end_time": "2019-07-20T04:47:39.732779Z",
     "start_time": "2019-07-20T04:47:39.727240Z"
    }
   },
   "outputs": [],
   "source": [
    "pca = PCA(n_components=2)\n",
    "pcom = pca.fit_transform(x)\n",
    "pca_df = pd.DataFrame(data=pcom, columns=[\"pca_1\", \"pca_2\"])\n",
    "finalpca_df = pd.concat([pca_df, dataset[output_cols]], axis = 1)"
   ]
  },
  {
   "cell_type": "code",
   "execution_count": 68,
   "metadata": {
    "ExecuteTime": {
     "end_time": "2019-07-20T05:14:53.412489Z",
     "start_time": "2019-07-20T05:14:53.224638Z"
    }
   },
   "outputs": [
    {
     "data": {
      "image/png": "[encoded data removed]",
      "text/plain": [
       "<Figure size 576x576 with 1 Axes>"
      ]
     },
     "metadata": {},
     "output_type": "display_data"
    }
   ],
   "source": [
    "fig = plt.figure(figsize = (8,8))\n",
    "ax = fig.add_subplot(1,1,1) \n",
    "ax.set_xlabel(\"pca_1\", fontsize = 15)\n",
    "ax.set_ylabel(\"pca_2\", fontsize = 15)\n",
    "ax.set_title('2 component PCA', fontsize = 20)\n",
    "ax.scatter(finalpca_df[\"pca_1\"], finalpca_df[\"pca_2\"])\n",
    "ax.grid()"
   ]
  },
  {
   "cell_type": "markdown",
   "metadata": {},
   "source": [
    "### Feature scaling "
   ]
  },
  {
   "cell_type": "code",
   "execution_count": 6,
   "metadata": {
    "ExecuteTime": {
     "end_time": "2019-07-20T03:38:09.294580Z",
     "start_time": "2019-07-20T03:38:09.103746Z"
    }
   },
   "outputs": [],
   "source": [
    "# from sklearn.preprocessing import StandardScaler\n",
    "# standardscaler_x = StandardScaler()\n",
    "# x = standardscaler_x.fit_transform(x)\n",
    "# standardscaler_y = StandardScaler()\n",
    "# y = standardscaler_y.fit_transform(y)"
   ]
  },
  {
   "cell_type": "code",
   "execution_count": 7,
   "metadata": {
    "ExecuteTime": {
     "end_time": "2019-07-20T03:38:09.298167Z",
     "start_time": "2019-07-20T03:38:09.295812Z"
    }
   },
   "outputs": [],
   "source": [
    "# reshape to 1d array, necessary for model.\n",
    "# y = y.reshape(len(y),)"
   ]
  },
  {
   "cell_type": "markdown",
   "metadata": {},
   "source": [
    "### Fitting the SVR model\n",
    "- using train dataset to train SVR\n",
    "- using test dataset to evaluate SVR performance"
   ]
  },
  {
   "cell_type": "markdown",
   "metadata": {},
   "source": [
    "#### Using poly kernel"
   ]
  },
  {
   "cell_type": "code",
   "execution_count": 40,
   "metadata": {
    "ExecuteTime": {
     "end_time": "2019-07-20T04:01:51.394127Z",
     "start_time": "2019-07-20T04:01:51.387052Z"
    }
   },
   "outputs": [
    {
     "name": "stderr",
     "output_type": "stream",
     "text": [
      "/anaconda3/lib/python3.6/site-packages/sklearn/utils/validation.py:578: DataConversionWarning: A column-vector y was passed when a 1d array was expected. Please change the shape of y to (n_samples, ), for example using ravel().\n",
      "  y = column_or_1d(y, warn=True)\n"
     ]
    },
    {
     "data": {
      "text/plain": [
       "SVR(C=1.0, cache_size=200, coef0=0.0, degree=3, epsilon=0.1, gamma='auto',\n",
       "  kernel='poly', max_iter=-1, shrinking=True, tol=0.001, verbose=False)"
      ]
     },
     "execution_count": 40,
     "metadata": {},
     "output_type": "execute_result"
    }
   ],
   "source": [
    "reg_poly_model = SVR(kernel='poly').fit(x_train,y_train)\n",
    "reg_poly_model"
   ]
  },
  {
   "cell_type": "markdown",
   "metadata": {
    "ExecuteTime": {
     "end_time": "2019-07-20T13:55:32.155714Z",
     "start_time": "2019-07-20T13:55:32.151153Z"
    }
   },
   "source": [
    "Training r-squared"
   ]
  },
  {
   "cell_type": "code",
   "execution_count": 70,
   "metadata": {
    "ExecuteTime": {
     "end_time": "2019-07-20T13:55:14.985701Z",
     "start_time": "2019-07-20T13:55:14.981582Z"
    }
   },
   "outputs": [
    {
     "name": "stdout",
     "output_type": "stream",
     "text": [
      "0.8385214497528193\n"
     ]
    }
   ],
   "source": [
    "y_train_predict = reg_poly_model.predict(x_train)\n",
    "print(r2_score(y_train, y_train_predict))"
   ]
  },
  {
   "cell_type": "markdown",
   "metadata": {},
   "source": [
    "Testing r-squared"
   ]
  },
  {
   "cell_type": "code",
   "execution_count": 71,
   "metadata": {
    "ExecuteTime": {
     "end_time": "2019-07-20T13:55:15.493393Z",
     "start_time": "2019-07-20T13:55:15.489305Z"
    }
   },
   "outputs": [
    {
     "name": "stdout",
     "output_type": "stream",
     "text": [
      "-0.8581209916548742\n"
     ]
    }
   ],
   "source": [
    "y_predict = reg_poly_model.predict(x_test)\n",
    "print(r2_score(y_test, y_predict))"
   ]
  },
  {
   "cell_type": "markdown",
   "metadata": {},
   "source": [
    "#### Using rbf kernel"
   ]
  },
  {
   "cell_type": "code",
   "execution_count": 73,
   "metadata": {
    "ExecuteTime": {
     "end_time": "2019-07-20T14:22:50.097671Z",
     "start_time": "2019-07-20T14:22:50.092785Z"
    }
   },
   "outputs": [
    {
     "name": "stderr",
     "output_type": "stream",
     "text": [
      "/anaconda3/lib/python3.6/site-packages/sklearn/utils/validation.py:578: DataConversionWarning: A column-vector y was passed when a 1d array was expected. Please change the shape of y to (n_samples, ), for example using ravel().\n",
      "  y = column_or_1d(y, warn=True)\n"
     ]
    },
    {
     "data": {
      "text/plain": [
       "SVR(C=1.0, cache_size=200, coef0=0.0, degree=3, epsilon=0.1, gamma='auto',\n",
       "  kernel='rbf', max_iter=-1, shrinking=True, tol=0.001, verbose=False)"
      ]
     },
     "execution_count": 73,
     "metadata": {},
     "output_type": "execute_result"
    }
   ],
   "source": [
    "reg_rbf_model = SVR(kernel='rbf').fit(x_train,y_train)\n",
    "reg_rbf_model"
   ]
  },
  {
   "cell_type": "markdown",
   "metadata": {},
   "source": [
    "Training r-squared"
   ]
  },
  {
   "cell_type": "code",
   "execution_count": 74,
   "metadata": {
    "ExecuteTime": {
     "end_time": "2019-07-20T14:23:08.289722Z",
     "start_time": "2019-07-20T14:23:08.285378Z"
    }
   },
   "outputs": [
    {
     "name": "stdout",
     "output_type": "stream",
     "text": [
      "0.8017006425875294\n"
     ]
    }
   ],
   "source": [
    "y_train_predict = reg_rbf_model.predict(x_train)\n",
    "print(r2_score(y_train, y_train_predict))"
   ]
  },
  {
   "cell_type": "markdown",
   "metadata": {},
   "source": [
    "Testing r-squared"
   ]
  },
  {
   "cell_type": "code",
   "execution_count": 75,
   "metadata": {
    "ExecuteTime": {
     "end_time": "2019-07-20T14:23:09.256485Z",
     "start_time": "2019-07-20T14:23:09.252683Z"
    }
   },
   "outputs": [
    {
     "name": "stdout",
     "output_type": "stream",
     "text": [
      "-0.4296487094700918\n"
     ]
    }
   ],
   "source": [
    "y_predict = reg_rbf_model.predict(x_test)\n",
    "print(r2_score(y_test, y_predict))"
   ]
  },
  {
   "cell_type": "markdown",
   "metadata": {},
   "source": [
    "### Testing out using custom data point"
   ]
  },
  {
   "cell_type": "code",
   "execution_count": 9,
   "metadata": {
    "ExecuteTime": {
     "end_time": "2019-07-20T03:38:09.365555Z",
     "start_time": "2019-07-20T03:38:09.362709Z"
    }
   },
   "outputs": [],
   "source": [
    "# scaling test data for prediction\n",
    "# test = np.zeros(1) # we are testing just one value\n",
    "# test[0]= 6.5\n",
    "# test = test.reshape(1,1) # reshape to 2D array!\n",
    "# test = standardscaler_x.transform(test) # rescaling test data like train data"
   ]
  },
  {
   "cell_type": "code",
   "execution_count": 11,
   "metadata": {
    "ExecuteTime": {
     "end_time": "2019-07-20T03:38:09.373369Z",
     "start_time": "2019-07-20T03:38:09.370683Z"
    }
   },
   "outputs": [],
   "source": [
    "# inverse scaling y to real value\n",
    "y_predict = standardscaler_y.inverse_transform(y_pred)"
   ]
  }
 ],
 "metadata": {
  "kernelspec": {
   "display_name": "Python 3",
   "language": "python",
   "name": "python3"
  },
  "language_info": {
   "codemirror_mode": {
    "name": "ipython",
    "version": 3
   },
   "file_extension": ".py",
   "mimetype": "text/x-python",
   "name": "python",
   "nbconvert_exporter": "python",
   "pygments_lexer": "ipython3",
   "version": "3.6.7"
  }
 },
 "nbformat": 4,
 "nbformat_minor": 2
}
