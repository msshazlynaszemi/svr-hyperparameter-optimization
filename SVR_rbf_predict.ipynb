{
 "cells": [
  {
   "cell_type": "markdown",
   "metadata": {},
   "source": [
    "Steps\n",
    "1. Install dependencies\n",
    "2. Collect Dataset\n",
    "3. Writie Script\n",
    "4. Analyze Graph\n"
   ]
  },
  {
   "cell_type": "markdown",
   "metadata": {},
   "source": [
    "## Step 1\n",
    "\n",
    "Install Dependencies\n",
    "\n",
    "pip install csv (read data), numpy (perform calculation), scikit-learn (build the predictive model), matplotlib (plot graph)"
   ]
  },
  {
   "cell_type": "code",
   "execution_count": 4,
   "metadata": {
    "ExecuteTime": {
     "end_time": "2019-09-03T08:05:14.293756Z",
     "start_time": "2019-09-03T08:05:14.290751Z"
    }
   },
   "outputs": [],
   "source": [
    "import csv\n",
    "import numpy as np\n",
    "from sklearn.svm import SVR\n",
    "import matplotlib.pyplot as plt"
   ]
  },
  {
   "cell_type": "markdown",
   "metadata": {},
   "source": [
    "## Step 2 & 3 "
   ]
  },
  {
   "cell_type": "code",
   "execution_count": 5,
   "metadata": {
    "ExecuteTime": {
     "end_time": "2019-09-03T08:05:16.543057Z",
     "start_time": "2019-09-03T08:05:16.538093Z"
    }
   },
   "outputs": [],
   "source": [
    "#initialize two empty list\n",
    "num = []\n",
    "accuracy = []\n",
    "\n",
    "#function that will fill them both with the relevant data\n",
    "def get_data(hyperp_new):\n",
    "    with open(hyperp_new, 'r' ) as csvfile:\n",
    "        csvFileReader = csv.reader(csvfile)\n",
    "        next(csvFileReader)\n",
    "        for row in csvFileReader:\n",
    "            num.append(int(row[0]))\n",
    "            accuracy.append(float(row[1]))\n",
    "    return"
   ]
  },
  {
   "cell_type": "markdown",
   "metadata": {},
   "source": [
    "![Alt text](https://encrypted-tbn0.gstatic.com/images?q=tbn:ANd9GcQBfskiOe2Ey1ecABUbWvZWDlQD06zaOeDqiexoQG-uakqJ7pu1) "
   ]
  },
  {
   "cell_type": "markdown",
   "metadata": {},
   "source": [
    "A support vector machine is a linear seperator. It takes data that's already classified and try to predict a set of unclassified data. so if we only have two data classes it would look like below. it will be the line such that the distances from the closest points in each of the two groups would be farthest away. When we add a new data point to our graph depending on which side of the line it is, we could classify accordingly with a label."
   ]
  },
  {
   "cell_type": "markdown",
   "metadata": {},
   "source": [
    "![Alt text](https://66.media.tumblr.com/0e459c9df3dc85c301ae41db5e058cb8/tumblr_inline_n9xq5hiRsC1rmpjcz.jpg)"
   ]
  },
  {
   "cell_type": "markdown",
   "metadata": {},
   "source": [
    "But right now, we are not predicting a class label , so we dont need to classify. Instead, we predicting the next value in a series which means we want to use regression. SVM can be use for regression. Support Vector Regression is a type of SVM that uses the space between data points as a margin of error and predicts the most likely next point in a data set."
   ]
  },
  {
   "cell_type": "markdown",
   "metadata": {},
   "source": [
    "![Alt text](https://i.stack.imgur.com/ZyGQp.png)"
   ]
  },
  {
   "cell_type": "markdown",
   "metadata": {},
   "source": [
    "We want two thing with SVR\n",
    "\n",
    "1. A line with the largest minimum margin\n",
    "2. A line that coreectly separates as many instances as possible\n",
    "\n",
    "But we can't always have both. \"C\" determines how much we want the latter. "
   ]
  },
  {
   "cell_type": "code",
   "execution_count": 11,
   "metadata": {
    "ExecuteTime": {
     "end_time": "2019-09-03T08:17:21.476766Z",
     "start_time": "2019-09-03T08:17:21.356193Z"
    }
   },
   "outputs": [
    {
     "name": "stderr",
     "output_type": "stream",
     "text": [
      "c:\\python36\\lib\\site-packages\\sklearn\\utils\\validation.py:724: DataConversionWarning: A column-vector y was passed when a 1d array was expected. Please change the shape of y to (n_samples, ), for example using ravel().\n",
      "  y = column_or_1d(y, warn=True)\n"
     ]
    },
    {
     "data": {
      "image/png": "[encoded data removed]",
      "text/plain": [
       "<Figure size 432x288 with 1 Axes>"
      ]
     },
     "metadata": {
      "needs_background": "light"
     },
     "output_type": "display_data"
    },
    {
     "name": "stdout",
     "output_type": "stream",
     "text": [
      "0.6265000105\n"
     ]
    }
   ],
   "source": [
    "#funtion to build our predictive model and graph it well\n",
    "def predict_accuracy(num, accuracy,x):\n",
    "    num = np.reshape(num,(len(num), 1))\n",
    "    accuracy = np.reshape(accuracy,(len(accuracy), 1))\n",
    "    x = np.reshape(x,(-1,1))\n",
    "    \n",
    "    #linear support vector regression\n",
    "    #takes three parameter (kernel- type of SVM), \n",
    "    #(penalty parameter C of the error term- 1e3 (scientific notation for 1000) )\n",
    "    #svr_lin = SVR(kernel= 'linear', C=1e3, gamma='auto')\n",
    "    #polynomial - that there are no gurantees for one optmization to woork better than the other)\n",
    "    #svr_poly = SVR(kernel= 'poly', C=1e3, gamma='auto', degree = 3, epsilon=.1, coef0=1)\n",
    "    #svr radial basis funtion - define similarity to be the Euclidean distance between two inputs\n",
    "    #if both are right on top of each other, the max similarity is 1 \n",
    "    #if too far is 0\n",
    "    #gamma defines how far too far\n",
    "    svr_rbf = SVR(kernel= 'rbf', C=1e3, gamma=0.1, epsilon=.1)\n",
    "    \n",
    "    #fit or train train each of our models on our num  and accuracy\n",
    "    #svr_lin.fit(num, accuracy)\n",
    "    #svr_poly.fit(num, accuracy)\n",
    "    svr_rbf.fit(num, accuracy)\n",
    "    \n",
    "    #plotting graph\n",
    "    plt.scatter(num, accuracy, color='black', label='Data')\n",
    "    plt.plot(num, svr_rbf.predict(num), color='red', label='RBF model')\n",
    "    #plt.plot(num, svr_lin.predict(num), color='green', label='Linear model')\n",
    "    #plt.plot(num, svr_poly.predict(num), color='blue', label='Polynomial model')\n",
    "    plt.xlabel('Num')\n",
    "    plt.ylabel('Accuracy')\n",
    "    plt.title('Support Vector Regression')\n",
    "    plt.legend()\n",
    "    plt.show()\n",
    "    \n",
    "    #return predictions to each of our model\n",
    "    return svr_rbf.predict(x)[0]\n",
    "#, svr_lin.predict(x)[0], svr_poly.predict(x)[0]\n",
    "\n",
    "#get our data \n",
    "get_data('hyperp_new.csv')\n",
    "\n",
    "#create variable to store our predicted accuracy given our num and accuracy \n",
    "predicted_accuracy = predict_accuracy(num, accuracy, 101)\n",
    "\n",
    "print(predicted_accuracy)\n",
    "#print(\"RBF:\", predicted_accuracy[0],\"LIN:\", predicted_accuracy[1],\"POLY:\", predicted_accuracy[2])\n"
   ]
  },
  {
   "cell_type": "code",
   "execution_count": null,
   "metadata": {},
   "outputs": [],
   "source": []
  }
 ],
 "metadata": {
  "kernelspec": {
   "display_name": "Python 3",
   "language": "python",
   "name": "python3"
  },
  "language_info": {
   "codemirror_mode": {
    "name": "ipython",
    "version": 3
   },
   "file_extension": ".py",
   "mimetype": "text/x-python",
   "name": "python",
   "nbconvert_exporter": "python",
   "pygments_lexer": "ipython3",
   "version": "3.6.6"
  }
 },
 "nbformat": 4,
 "nbformat_minor": 2
}
