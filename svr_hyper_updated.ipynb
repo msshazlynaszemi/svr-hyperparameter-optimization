{
 "cells": [
  {
   "cell_type": "markdown",
   "metadata": {},
   "source": [
    "# Hyperparameter prediction using SVR\n",
    "\n",
    "Using hyperparameter as input to predict `best_acc`.\n",
    "\n",
    "Input are:\n",
    "- `learning_rate`\n",
    "- `hyper`\n",
    "- `batch_size`\n",
    "- `filters_1`\n",
    "- `filters_2`\n",
    "- `full_hidd_1`\n",
    "- `full_hidd_2`\n",
    "- `ksize_1`\n",
    "- `ksize_2`\n",
    "- `no_epochs`\n",
    "\n",
    "\n",
    "Note: we have to remove `best_acc` and `best_loss` as those are not available during prediction time for training data"
   ]
  },
  {
   "cell_type": "markdown",
   "metadata": {},
   "source": [
    "## Table of content\n",
    "* [Importing libraries](#Importing-libraries-and-reading-from-csv-file)\n",
    "* [Preparing datasets](#Preparing-datasets)\n",
    "* [Feature scaling](#Feature-scaling) as of now is commented - is it required ? \n",
    "* [SVR Model training - poly](#Fitting-the-SVR-model)\n",
    "* [Splitting into train and test](#Splitting-the-data-into-train-and-test)\n",
    "* [PCA to visualize input](#Using-PCA-to-visualize-input-in-2D)"
   ]
  },
  {
   "cell_type": "markdown",
   "metadata": {},
   "source": [
    "### Importing libraries and reading from csv file"
   ]
  },
  {
   "cell_type": "code",
   "execution_count": 3,
   "metadata": {
    "ExecuteTime": {
     "end_time": "2019-07-20T04:09:17.647154Z",
     "start_time": "2019-07-20T04:09:17.641804Z"
    }
   },
   "outputs": [],
   "source": [
    "import numpy as np\n",
    "import pandas as pd\n",
    "import seaborn as sns\n",
    "import matplotlib.pyplot as plt\n",
    "\n",
    "from sklearn.svm import SVR\n",
    "from sklearn.metrics import r2_score\n",
    "from sklearn.decomposition import PCA\n",
    "from sklearn.model_selection import train_test_split\n",
    "\n",
    "sns.set(style=\"ticks\")"
   ]
  },
  {
   "cell_type": "code",
   "execution_count": 4,
   "metadata": {
    "ExecuteTime": {
     "end_time": "2019-07-20T03:49:20.971420Z",
     "start_time": "2019-07-20T03:49:20.955559Z"
    }
   },
   "outputs": [
    {
     "data": {
      "text/html": [
       "<div>\n",
       "<style scoped>\n",
       "    .dataframe tbody tr th:only-of-type {\n",
       "        vertical-align: middle;\n",
       "    }\n",
       "\n",
       "    .dataframe tbody tr th {\n",
       "        vertical-align: top;\n",
       "    }\n",
       "\n",
       "    .dataframe thead th {\n",
       "        text-align: right;\n",
       "    }\n",
       "</style>\n",
       "<table border=\"1\" class=\"dataframe\">\n",
       "  <thead>\n",
       "    <tr style=\"text-align: right;\">\n",
       "      <th></th>\n",
       "      <th>filters1</th>\n",
       "      <th>ksize1</th>\n",
       "      <th>filters2</th>\n",
       "      <th>ksize2</th>\n",
       "      <th>filters3</th>\n",
       "      <th>ksize3</th>\n",
       "      <th>full_hidd1</th>\n",
       "      <th>full_hidd2</th>\n",
       "      <th>activation</th>\n",
       "      <th>learning_rate</th>\n",
       "      <th>batch_size</th>\n",
       "      <th>momentum</th>\n",
       "      <th>optimizer</th>\n",
       "      <th>best_loss</th>\n",
       "      <th>best_acc</th>\n",
       "      <th>best_train_acc</th>\n",
       "      <th>best_train_loss</th>\n",
       "      <th>no_epochs</th>\n",
       "      <th>logdir</th>\n",
       "    </tr>\n",
       "  </thead>\n",
       "  <tbody>\n",
       "    <tr>\n",
       "      <th>0</th>\n",
       "      <td>64</td>\n",
       "      <td>5</td>\n",
       "      <td>64</td>\n",
       "      <td>5</td>\n",
       "      <td>128</td>\n",
       "      <td>5</td>\n",
       "      <td>125</td>\n",
       "      <td>80</td>\n",
       "      <td>relu</td>\n",
       "      <td>0.002</td>\n",
       "      <td>32</td>\n",
       "      <td>0.99</td>\n",
       "      <td>adam</td>\n",
       "      <td>0.850903</td>\n",
       "      <td>0.7222</td>\n",
       "      <td>0.719596</td>\n",
       "      <td>0.788537</td>\n",
       "      <td>11</td>\n",
       "      <td>./log/run-20190731T202129/</td>\n",
       "    </tr>\n",
       "    <tr>\n",
       "      <th>1</th>\n",
       "      <td>32</td>\n",
       "      <td>5</td>\n",
       "      <td>96</td>\n",
       "      <td>4</td>\n",
       "      <td>128</td>\n",
       "      <td>3</td>\n",
       "      <td>125</td>\n",
       "      <td>80</td>\n",
       "      <td>relu</td>\n",
       "      <td>0.002</td>\n",
       "      <td>32</td>\n",
       "      <td>0.99</td>\n",
       "      <td>adam</td>\n",
       "      <td>0.901699</td>\n",
       "      <td>0.6919</td>\n",
       "      <td>0.698909</td>\n",
       "      <td>0.858828</td>\n",
       "      <td>10</td>\n",
       "      <td>./log/run-20190731T202250/</td>\n",
       "    </tr>\n",
       "    <tr>\n",
       "      <th>2</th>\n",
       "      <td>32</td>\n",
       "      <td>3</td>\n",
       "      <td>64</td>\n",
       "      <td>4</td>\n",
       "      <td>128</td>\n",
       "      <td>5</td>\n",
       "      <td>125</td>\n",
       "      <td>100</td>\n",
       "      <td>relu</td>\n",
       "      <td>0.002</td>\n",
       "      <td>64</td>\n",
       "      <td>0.99</td>\n",
       "      <td>adam</td>\n",
       "      <td>0.890156</td>\n",
       "      <td>0.6976</td>\n",
       "      <td>0.687631</td>\n",
       "      <td>0.896935</td>\n",
       "      <td>10</td>\n",
       "      <td>./log/run-20190731T202353/</td>\n",
       "    </tr>\n",
       "    <tr>\n",
       "      <th>3</th>\n",
       "      <td>96</td>\n",
       "      <td>5</td>\n",
       "      <td>48</td>\n",
       "      <td>5</td>\n",
       "      <td>128</td>\n",
       "      <td>4</td>\n",
       "      <td>100</td>\n",
       "      <td>125</td>\n",
       "      <td>relu</td>\n",
       "      <td>0.001</td>\n",
       "      <td>128</td>\n",
       "      <td>0.95</td>\n",
       "      <td>rmsprop</td>\n",
       "      <td>1.003658</td>\n",
       "      <td>0.6639</td>\n",
       "      <td>0.645796</td>\n",
       "      <td>0.988493</td>\n",
       "      <td>10</td>\n",
       "      <td>./log/run-20190731T202433/</td>\n",
       "    </tr>\n",
       "    <tr>\n",
       "      <th>4</th>\n",
       "      <td>32</td>\n",
       "      <td>4</td>\n",
       "      <td>64</td>\n",
       "      <td>3</td>\n",
       "      <td>128</td>\n",
       "      <td>3</td>\n",
       "      <td>100</td>\n",
       "      <td>80</td>\n",
       "      <td>lrelu</td>\n",
       "      <td>0.002</td>\n",
       "      <td>64</td>\n",
       "      <td>0.95</td>\n",
       "      <td>rmsprop</td>\n",
       "      <td>1.103251</td>\n",
       "      <td>0.6293</td>\n",
       "      <td>0.627815</td>\n",
       "      <td>1.055303</td>\n",
       "      <td>10</td>\n",
       "      <td>./log/run-20190731T202515/</td>\n",
       "    </tr>\n",
       "  </tbody>\n",
       "</table>\n",
       "</div>"
      ],
      "text/plain": [
       "   filters1  ksize1  filters2  ksize2  filters3  ksize3  full_hidd1  \\\n",
       "0        64       5        64       5       128       5         125   \n",
       "1        32       5        96       4       128       3         125   \n",
       "2        32       3        64       4       128       5         125   \n",
       "3        96       5        48       5       128       4         100   \n",
       "4        32       4        64       3       128       3         100   \n",
       "\n",
       "   full_hidd2 activation  learning_rate  batch_size  momentum optimizer  \\\n",
       "0          80       relu          0.002          32      0.99      adam   \n",
       "1          80       relu          0.002          32      0.99      adam   \n",
       "2         100       relu          0.002          64      0.99      adam   \n",
       "3         125       relu          0.001         128      0.95   rmsprop   \n",
       "4          80      lrelu          0.002          64      0.95   rmsprop   \n",
       "\n",
       "   best_loss  best_acc  best_train_acc  best_train_loss  no_epochs  \\\n",
       "0   0.850903    0.7222        0.719596         0.788537         11   \n",
       "1   0.901699    0.6919        0.698909         0.858828         10   \n",
       "2   0.890156    0.6976        0.687631         0.896935         10   \n",
       "3   1.003658    0.6639        0.645796         0.988493         10   \n",
       "4   1.103251    0.6293        0.627815         1.055303         10   \n",
       "\n",
       "                       logdir  \n",
       "0  ./log/run-20190731T202129/  \n",
       "1  ./log/run-20190731T202250/  \n",
       "2  ./log/run-20190731T202353/  \n",
       "3  ./log/run-20190731T202433/  \n",
       "4  ./log/run-20190731T202515/  "
      ]
     },
     "execution_count": 4,
     "metadata": {},
     "output_type": "execute_result"
    }
   ],
   "source": [
    "dataset = pd.read_csv('hyperp.csv')\n",
    "dataset.head()"
   ]
  },
  {
   "cell_type": "markdown",
   "metadata": {},
   "source": [
    "### Preparing datasets"
   ]
  },
  {
   "cell_type": "code",
   "execution_count": 5,
   "metadata": {
    "ExecuteTime": {
     "end_time": "2019-07-20T03:49:49.799991Z",
     "start_time": "2019-07-20T03:49:49.796837Z"
    }
   },
   "outputs": [],
   "source": [
    "input_cols = [\n",
    "    \"learning_rate\",\n",
    "    \"batch_size\", \"filters1\",\n",
    "    \"filters2\",\"filters3\", \"full_hidd1\", \n",
    "    \"full_hidd2\", \"ksize1\", \n",
    "    \"ksize2\", \"ksize3\", \"no_epochs\", \n",
    "]\n",
    "\n",
    "#\"activation\", \"momentum\", \"optimizer\"\n",
    "output_cols = [\"best_acc\"]"
   ]
  },
  {
   "cell_type": "code",
   "execution_count": 6,
   "metadata": {
    "ExecuteTime": {
     "end_time": "2019-07-20T03:49:50.093250Z",
     "start_time": "2019-07-20T03:49:50.087749Z"
    }
   },
   "outputs": [],
   "source": [
    "x = dataset[input_cols].values\n",
    "y = dataset[output_cols].values"
   ]
  },
  {
   "cell_type": "markdown",
   "metadata": {},
   "source": [
    "### Splitting the data into train and test"
   ]
  },
  {
   "cell_type": "code",
   "execution_count": 7,
   "metadata": {
    "ExecuteTime": {
     "end_time": "2019-07-20T03:53:28.738570Z",
     "start_time": "2019-07-20T03:53:28.734698Z"
    }
   },
   "outputs": [],
   "source": [
    "x_train, x_test, y_train, y_test = train_test_split(x, y, test_size=0.3, random_state=1)"
   ]
  },
  {
   "cell_type": "markdown",
   "metadata": {},
   "source": [
    "### Using PCA to visualize input in 2D"
   ]
  },
  {
   "cell_type": "code",
   "execution_count": 8,
   "metadata": {
    "ExecuteTime": {
     "end_time": "2019-07-20T04:47:39.732779Z",
     "start_time": "2019-07-20T04:47:39.727240Z"
    }
   },
   "outputs": [],
   "source": [
    "pca = PCA(n_components=2)\n",
    "pcom = pca.fit_transform(x)\n",
    "pca_df = pd.DataFrame(data=pcom, columns=[\"pca_1\", \"pca_2\"])\n",
    "finalpca_df = pd.concat([pca_df, dataset[output_cols]], axis = 1)"
   ]
  },
  {
   "cell_type": "code",
   "execution_count": 9,
   "metadata": {
    "ExecuteTime": {
     "end_time": "2019-07-20T05:14:53.412489Z",
     "start_time": "2019-07-20T05:14:53.224638Z"
    }
   },
   "outputs": [
    {
     "data": {
      "image/png": "[encoded data removed]",
      "text/plain": [
       "<Figure size 576x576 with 1 Axes>"
      ]
     },
     "metadata": {
      "needs_background": "light"
     },
     "output_type": "display_data"
    }
   ],
   "source": [
    "fig = plt.figure(figsize = (8,8))\n",
    "ax = fig.add_subplot(1,1,1) \n",
    "ax.set_xlabel(\"pca_1\", fontsize = 15)\n",
    "ax.set_ylabel(\"pca_2\", fontsize = 15)\n",
    "ax.set_title('2 component PCA', fontsize = 20)\n",
    "ax.scatter(finalpca_df[\"pca_1\"], finalpca_df[\"pca_2\"])\n",
    "ax.grid()"
   ]
  },
  {
   "cell_type": "markdown",
   "metadata": {},
   "source": [
    "### Feature scaling "
   ]
  },
  {
   "cell_type": "code",
   "execution_count": 10,
   "metadata": {
    "ExecuteTime": {
     "end_time": "2019-07-20T03:38:09.294580Z",
     "start_time": "2019-07-20T03:38:09.103746Z"
    }
   },
   "outputs": [],
   "source": [
    "# from sklearn.preprocessing import StandardScaler\n",
    "# standardscaler_x = StandardScaler()\n",
    "# x = standardscaler_x.fit_transform(x)\n",
    "# standardscaler_y = StandardScaler()\n",
    "# y = standardscaler_y.fit_transform(y)"
   ]
  },
  {
   "cell_type": "code",
   "execution_count": 11,
   "metadata": {
    "ExecuteTime": {
     "end_time": "2019-07-20T03:38:09.298167Z",
     "start_time": "2019-07-20T03:38:09.295812Z"
    }
   },
   "outputs": [],
   "source": [
    "# reshape to 1d array, necessary for model.\n",
    "# y = y.reshape(len(y),)"
   ]
  },
  {
   "cell_type": "markdown",
   "metadata": {},
   "source": [
    "### Fitting the SVR model\n",
    "- using train dataset to train SVR\n",
    "- using test dataset to evaluate SVR performance"
   ]
  },
  {
   "cell_type": "markdown",
   "metadata": {},
   "source": [
    "#### Using poly kernel"
   ]
  },
  {
   "cell_type": "code",
   "execution_count": 12,
   "metadata": {
    "ExecuteTime": {
     "end_time": "2019-07-20T04:01:51.394127Z",
     "start_time": "2019-07-20T04:01:51.387052Z"
    }
   },
   "outputs": [
    {
     "name": "stderr",
     "output_type": "stream",
     "text": [
      "c:\\python36\\lib\\site-packages\\sklearn\\utils\\validation.py:724: DataConversionWarning: A column-vector y was passed when a 1d array was expected. Please change the shape of y to (n_samples, ), for example using ravel().\n",
      "  y = column_or_1d(y, warn=True)\n",
      "c:\\python36\\lib\\site-packages\\sklearn\\svm\\base.py:193: FutureWarning: The default value of gamma will change from 'auto' to 'scale' in version 0.22 to account better for unscaled features. Set gamma explicitly to 'auto' or 'scale' to avoid this warning.\n",
      "  \"avoid this warning.\", FutureWarning)\n"
     ]
    },
    {
     "data": {
      "text/plain": [
       "SVR(C=1.0, cache_size=200, coef0=0.0, degree=3, epsilon=0.1,\n",
       "    gamma='auto_deprecated', kernel='poly', max_iter=-1, shrinking=True,\n",
       "    tol=0.001, verbose=False)"
      ]
     },
     "execution_count": 12,
     "metadata": {},
     "output_type": "execute_result"
    }
   ],
   "source": [
    "reg_poly_model = SVR(kernel='poly').fit(x_train,y_train)\n",
    "reg_poly_model"
   ]
  },
  {
   "cell_type": "markdown",
   "metadata": {
    "ExecuteTime": {
     "end_time": "2019-07-20T13:55:32.155714Z",
     "start_time": "2019-07-20T13:55:32.151153Z"
    }
   },
   "source": [
    "Training r-squared"
   ]
  },
  {
   "cell_type": "code",
   "execution_count": 13,
   "metadata": {
    "ExecuteTime": {
     "end_time": "2019-07-20T13:55:14.985701Z",
     "start_time": "2019-07-20T13:55:14.981582Z"
    }
   },
   "outputs": [
    {
     "name": "stdout",
     "output_type": "stream",
     "text": [
      "-1.3915659879905729\n"
     ]
    }
   ],
   "source": [
    "y_train_predict = reg_poly_model.predict(x_train)\n",
    "print(r2_score(y_train, y_train_predict))"
   ]
  },
  {
   "cell_type": "markdown",
   "metadata": {},
   "source": [
    "Testing r-squared"
   ]
  },
  {
   "cell_type": "code",
   "execution_count": 14,
   "metadata": {
    "ExecuteTime": {
     "end_time": "2019-07-20T13:55:15.493393Z",
     "start_time": "2019-07-20T13:55:15.489305Z"
    }
   },
   "outputs": [
    {
     "name": "stdout",
     "output_type": "stream",
     "text": [
      "-5.229998874546062\n"
     ]
    }
   ],
   "source": [
    "y_predict = reg_poly_model.predict(x_test)\n",
    "print(r2_score(y_test, y_predict))"
   ]
  },
  {
   "cell_type": "markdown",
   "metadata": {},
   "source": [
    "#### Using rbf kernel"
   ]
  },
  {
   "cell_type": "code",
   "execution_count": 15,
   "metadata": {
    "ExecuteTime": {
     "end_time": "2019-07-20T14:22:50.097671Z",
     "start_time": "2019-07-20T14:22:50.092785Z"
    }
   },
   "outputs": [
    {
     "name": "stderr",
     "output_type": "stream",
     "text": [
      "c:\\python36\\lib\\site-packages\\sklearn\\utils\\validation.py:724: DataConversionWarning: A column-vector y was passed when a 1d array was expected. Please change the shape of y to (n_samples, ), for example using ravel().\n",
      "  y = column_or_1d(y, warn=True)\n",
      "c:\\python36\\lib\\site-packages\\sklearn\\svm\\base.py:193: FutureWarning: The default value of gamma will change from 'auto' to 'scale' in version 0.22 to account better for unscaled features. Set gamma explicitly to 'auto' or 'scale' to avoid this warning.\n",
      "  \"avoid this warning.\", FutureWarning)\n"
     ]
    },
    {
     "data": {
      "text/plain": [
       "SVR(C=1.0, cache_size=200, coef0=0.0, degree=3, epsilon=0.1,\n",
       "    gamma='auto_deprecated', kernel='rbf', max_iter=-1, shrinking=True,\n",
       "    tol=0.001, verbose=False)"
      ]
     },
     "execution_count": 15,
     "metadata": {},
     "output_type": "execute_result"
    }
   ],
   "source": [
    "reg_rbf_model = SVR(kernel='rbf').fit(x_train,y_train)\n",
    "reg_rbf_model"
   ]
  },
  {
   "cell_type": "markdown",
   "metadata": {},
   "source": [
    "Training r-squared"
   ]
  },
  {
   "cell_type": "code",
   "execution_count": 16,
   "metadata": {
    "ExecuteTime": {
     "end_time": "2019-07-20T14:23:08.289722Z",
     "start_time": "2019-07-20T14:23:08.285378Z"
    }
   },
   "outputs": [
    {
     "name": "stdout",
     "output_type": "stream",
     "text": [
      "-1.3915659879905729\n"
     ]
    }
   ],
   "source": [
    "y_train_predict = reg_rbf_model.predict(x_train)\n",
    "print(r2_score(y_train, y_train_predict))"
   ]
  },
  {
   "cell_type": "markdown",
   "metadata": {},
   "source": [
    "Testing r-squared"
   ]
  },
  {
   "cell_type": "code",
   "execution_count": 17,
   "metadata": {
    "ExecuteTime": {
     "end_time": "2019-07-20T14:23:09.256485Z",
     "start_time": "2019-07-20T14:23:09.252683Z"
    }
   },
   "outputs": [
    {
     "name": "stdout",
     "output_type": "stream",
     "text": [
      "-5.229998874546062\n"
     ]
    }
   ],
   "source": [
    "y_predict = reg_rbf_model.predict(x_test)\n",
    "print(r2_score(y_test, y_predict))"
   ]
  },
  {
   "cell_type": "markdown",
   "metadata": {},
   "source": [
    "### Testing out using custom data point"
   ]
  },
  {
   "cell_type": "code",
   "execution_count": 18,
   "metadata": {
    "ExecuteTime": {
     "end_time": "2019-07-20T03:38:09.365555Z",
     "start_time": "2019-07-20T03:38:09.362709Z"
    }
   },
   "outputs": [],
   "source": [
    "# scaling test data for prediction\n",
    "# test = np.zeros(1) # we are testing just one value\n",
    "# test[0]= 6.5\n",
    "# test = test.reshape(1,1) # reshape to 2D array!\n",
    "# test = standardscaler_x.transform(test) # rescaling test data like train data"
   ]
  },
  {
   "cell_type": "code",
   "execution_count": 19,
   "metadata": {
    "ExecuteTime": {
     "end_time": "2019-07-20T03:38:09.373369Z",
     "start_time": "2019-07-20T03:38:09.370683Z"
    }
   },
   "outputs": [
    {
     "ename": "NameError",
     "evalue": "name 'standardscaler_y' is not defined",
     "output_type": "error",
     "traceback": [
      "\u001b[1;31m---------------------------------------------------------------------------\u001b[0m",
      "\u001b[1;31mNameError\u001b[0m                                 Traceback (most recent call last)",
      "\u001b[1;32m<ipython-input-19-e95fb39f3fe9>\u001b[0m in \u001b[0;36m<module>\u001b[1;34m\u001b[0m\n\u001b[0;32m      1\u001b[0m \u001b[1;31m# inverse scaling y to real value\u001b[0m\u001b[1;33m\u001b[0m\u001b[1;33m\u001b[0m\u001b[0m\n\u001b[1;32m----> 2\u001b[1;33m \u001b[0my_predict\u001b[0m \u001b[1;33m=\u001b[0m \u001b[0mstandardscaler_y\u001b[0m\u001b[1;33m.\u001b[0m\u001b[0minverse_transform\u001b[0m\u001b[1;33m(\u001b[0m\u001b[0my_pred\u001b[0m\u001b[1;33m)\u001b[0m\u001b[1;33m\u001b[0m\u001b[0m\n\u001b[0m",
      "\u001b[1;31mNameError\u001b[0m: name 'standardscaler_y' is not defined"
     ]
    }
   ],
   "source": [
    "# inverse scaling y to real value\n",
    "y_predict = standardscaler_y.inverse_transform(y_pred)"
   ]
  }
 ],
 "metadata": {
  "kernelspec": {
   "display_name": "Python 3",
   "language": "python",
   "name": "python3"
  },
  "language_info": {
   "codemirror_mode": {
    "name": "ipython",
    "version": 3
   },
   "file_extension": ".py",
   "mimetype": "text/x-python",
   "name": "python",
   "nbconvert_exporter": "python",
   "pygments_lexer": "ipython3",
   "version": "3.6.6"
  }
 },
 "nbformat": 4,
 "nbformat_minor": 2
}
