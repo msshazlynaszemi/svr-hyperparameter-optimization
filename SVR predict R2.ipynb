{
 "cells": [
  {
   "cell_type": "markdown",
   "metadata": {},
   "source": [
    "Steps\n",
    "1. Install dependencies\n",
    "2. Collect Dataset\n",
    "3. Writie Script\n",
    "4. Analyze Graph\n"
   ]
  },
  {
   "cell_type": "markdown",
   "metadata": {},
   "source": [
    "## Step 1\n",
    "\n",
    "Install Dependencies\n",
    "\n",
    "pip install csv (read data), numpy (perform calculation), scikit-learn (build the predictive model), matplotlib (plot graph)"
   ]
  },
  {
   "cell_type": "code",
   "execution_count": 10,
   "metadata": {
    "ExecuteTime": {
     "end_time": "2019-09-04T16:33:17.291911Z",
     "start_time": "2019-09-04T16:33:17.288512Z"
    }
   },
   "outputs": [],
   "source": [
    "import csv\n",
    "import numpy as np\n",
    "from sklearn.svm import SVR\n",
    "from sklearn.metrics import r2_score\n",
    "from sklearn.model_selection import train_test_split\n",
    "import matplotlib.pyplot as plt"
   ]
  },
  {
   "cell_type": "markdown",
   "metadata": {},
   "source": [
    "## Step 2 & 3 "
   ]
  },
  {
   "cell_type": "code",
   "execution_count": 5,
   "metadata": {
    "ExecuteTime": {
     "end_time": "2019-09-04T16:31:56.524958Z",
     "start_time": "2019-09-04T16:31:56.521185Z"
    }
   },
   "outputs": [],
   "source": [
    "#initialize two empty list\n",
    "num = []\n",
    "accuracy = []\n",
    "\n",
    "#function that will fill them both with the relevant data\n",
    "def get_data(hyperp_new):\n",
    "    with open(hyperp_new, 'r' ) as csvfile:\n",
    "        csvFileReader = csv.reader(csvfile)\n",
    "        next(csvFileReader)\n",
    "        for row in csvFileReader:\n",
    "            num.append(int(row[0]))\n",
    "            accuracy.append(float(row[1]))\n",
    "    return"
   ]
  },
  {
   "cell_type": "markdown",
   "metadata": {},
   "source": [
    "![Alt text](https://encrypted-tbn0.gstatic.com/images?q=tbn:ANd9GcQBfskiOe2Ey1ecABUbWvZWDlQD06zaOeDqiexoQG-uakqJ7pu1) "
   ]
  },
  {
   "cell_type": "markdown",
   "metadata": {},
   "source": [
    "A support vector machine is a linear seperator. It takes data that's already classified and try to predict a set of unclassified data. so if we only have two data classes it would look like below. it will be the line such that the distances from the closest points in each of the two groups would be farthest away. When we add a new data point to our graph depending on which side of the line it is, we could classify accordingly with a label."
   ]
  },
  {
   "cell_type": "markdown",
   "metadata": {},
   "source": [
    "![Alt text](https://66.media.tumblr.com/0e459c9df3dc85c301ae41db5e058cb8/tumblr_inline_n9xq5hiRsC1rmpjcz.jpg)"
   ]
  },
  {
   "cell_type": "markdown",
   "metadata": {},
   "source": [
    "But right now, we are not predicting a class label , so we dont need to classify. Instead, we predicting the next value in a series which means we want to use regression. SVM can be use for regression. Support Vector Regression is a type of SVM that uses the space between data points as a margin of error and predicts the most likely next point in a data set."
   ]
  },
  {
   "cell_type": "markdown",
   "metadata": {},
   "source": [
    "![Alt text](https://i.stack.imgur.com/ZyGQp.png)"
   ]
  },
  {
   "cell_type": "markdown",
   "metadata": {},
   "source": [
    "We want two thing with SVR\n",
    "\n",
    "1. A line with the largest minimum margin\n",
    "2. A line that coreectly separates as many instances as possible\n",
    "\n",
    "But we can't always have both. \"C\" determines how much we want the latter. "
   ]
  },
  {
   "cell_type": "code",
   "execution_count": 17,
   "metadata": {
    "ExecuteTime": {
     "end_time": "2019-09-04T16:36:08.795368Z",
     "start_time": "2019-09-04T16:36:08.756259Z"
    }
   },
   "outputs": [
    {
     "data": {
      "text/html": [
       "<div>\n",
       "<style scoped>\n",
       "    .dataframe tbody tr th:only-of-type {\n",
       "        vertical-align: middle;\n",
       "    }\n",
       "\n",
       "    .dataframe tbody tr th {\n",
       "        vertical-align: top;\n",
       "    }\n",
       "\n",
       "    .dataframe thead th {\n",
       "        text-align: right;\n",
       "    }\n",
       "</style>\n",
       "<table border=\"1\" class=\"dataframe\">\n",
       "  <thead>\n",
       "    <tr style=\"text-align: right;\">\n",
       "      <th></th>\n",
       "      <th>num</th>\n",
       "      <th>accuracy</th>\n",
       "      <th>no_epochs</th>\n",
       "      <th>learning_rate</th>\n",
       "      <th>batch_size</th>\n",
       "      <th>momentum</th>\n",
       "      <th>loss</th>\n",
       "    </tr>\n",
       "  </thead>\n",
       "  <tbody>\n",
       "    <tr>\n",
       "      <th>0</th>\n",
       "      <td>1</td>\n",
       "      <td>0.7222</td>\n",
       "      <td>11</td>\n",
       "      <td>0.002</td>\n",
       "      <td>32</td>\n",
       "      <td>0.99</td>\n",
       "      <td>0.850903</td>\n",
       "    </tr>\n",
       "    <tr>\n",
       "      <th>1</th>\n",
       "      <td>2</td>\n",
       "      <td>0.6919</td>\n",
       "      <td>10</td>\n",
       "      <td>0.002</td>\n",
       "      <td>32</td>\n",
       "      <td>0.99</td>\n",
       "      <td>0.901699</td>\n",
       "    </tr>\n",
       "    <tr>\n",
       "      <th>2</th>\n",
       "      <td>3</td>\n",
       "      <td>0.6976</td>\n",
       "      <td>10</td>\n",
       "      <td>0.002</td>\n",
       "      <td>64</td>\n",
       "      <td>0.99</td>\n",
       "      <td>0.890156</td>\n",
       "    </tr>\n",
       "    <tr>\n",
       "      <th>3</th>\n",
       "      <td>4</td>\n",
       "      <td>0.6639</td>\n",
       "      <td>10</td>\n",
       "      <td>0.001</td>\n",
       "      <td>128</td>\n",
       "      <td>0.95</td>\n",
       "      <td>1.003658</td>\n",
       "    </tr>\n",
       "    <tr>\n",
       "      <th>4</th>\n",
       "      <td>5</td>\n",
       "      <td>0.6293</td>\n",
       "      <td>10</td>\n",
       "      <td>0.002</td>\n",
       "      <td>64</td>\n",
       "      <td>0.95</td>\n",
       "      <td>1.103251</td>\n",
       "    </tr>\n",
       "  </tbody>\n",
       "</table>\n",
       "</div>"
      ],
      "text/plain": [
       "   num  accuracy  no_epochs  learning_rate  batch_size  momentum      loss\n",
       "0    1    0.7222         11          0.002          32      0.99  0.850903\n",
       "1    2    0.6919         10          0.002          32      0.99  0.901699\n",
       "2    3    0.6976         10          0.002          64      0.99  0.890156\n",
       "3    4    0.6639         10          0.001         128      0.95  1.003658\n",
       "4    5    0.6293         10          0.002          64      0.95  1.103251"
      ]
     },
     "execution_count": 17,
     "metadata": {},
     "output_type": "execute_result"
    }
   ],
   "source": [
    "import pandas as pd \n",
    "\n",
    "tmp_df = pd.read_csv(\"hyperp_new.csv\")\n",
    "num = tmp_df.values[:,2:]\n",
    "accuracy = tmp_df.values[:,1]\n",
    "\n",
    "x_train, x_test, y_train, y_test = train_test_split(num, accuracy, test_size=0.3, random_state=1)\n",
    "\n",
    "tmp_df.head()"
   ]
  },
  {
   "cell_type": "code",
   "execution_count": 18,
   "metadata": {
    "ExecuteTime": {
     "end_time": "2019-09-04T16:36:09.091408Z",
     "start_time": "2019-09-04T16:36:09.083855Z"
    }
   },
   "outputs": [
    {
     "data": {
      "text/plain": [
       "SVR(C=1000.0, cache_size=200, coef0=0.0, degree=3, epsilon=0.1, gamma=0.1,\n",
       "  kernel='rbf', max_iter=-1, shrinking=True, tol=0.001, verbose=False)"
      ]
     },
     "execution_count": 18,
     "metadata": {},
     "output_type": "execute_result"
    }
   ],
   "source": [
    "svr_lin = SVR(kernel= 'linear', C=1e3, gamma='auto')\n",
    "svr_poly = SVR(kernel= 'poly', C=1e3, gamma='auto', degree = 3, epsilon=.1, coef0=1)\n",
    "svr_rbf = SVR(kernel= 'rbf', C=1e3, gamma=0.1, epsilon=.1)\n",
    "\n",
    "svr_lin.fit(x_train, y_train)\n",
    "svr_poly.fit(x_train, y_train)\n",
    "svr_rbf.fit(x_train, y_train)"
   ]
  },
  {
   "cell_type": "code",
   "execution_count": 19,
   "metadata": {
    "ExecuteTime": {
     "end_time": "2019-09-04T16:36:09.390711Z",
     "start_time": "2019-09-04T16:36:09.383705Z"
    }
   },
   "outputs": [
    {
     "name": "stdout",
     "output_type": "stream",
     "text": [
      "R-Squared for SVR (linear): -5.229998874546062\n",
      "R-Squared for SVR (poly): -5.229998874546062\n",
      "R-Squared for SVR (RBF): -5.229998874546062\n"
     ]
    }
   ],
   "source": [
    "svr_lin_y_train_predict = svr_lin.predict(x_test)\n",
    "print(\"R-Squared for SVR (linear): \" + str(r2_score(y_test, svr_lin_y_train_predict)))\n",
    "\n",
    "svr_poly_y_train_predict = svr_poly.predict(x_test)\n",
    "print(\"R-Squared for SVR (poly): \" + str(r2_score(y_test, svr_poly_y_train_predict)))\n",
    "\n",
    "svr_rbf_y_train_predict = svr_rbf.predict(x_test)\n",
    "print(\"R-Squared for SVR (RBF): \" + str(r2_score(y_test, svr_rbf_y_train_predict)))"
   ]
  },
  {
   "cell_type": "code",
   "execution_count": null,
   "metadata": {},
   "outputs": [],
   "source": []
  }
 ],
 "metadata": {
  "kernelspec": {
   "display_name": "Python 3",
   "language": "python",
   "name": "python3"
  },
  "language_info": {
   "codemirror_mode": {
    "name": "ipython",
    "version": 3
   },
   "file_extension": ".py",
   "mimetype": "text/x-python",
   "name": "python",
   "nbconvert_exporter": "python",
   "pygments_lexer": "ipython3",
   "version": "3.6.7"
  }
 },
 "nbformat": 4,
 "nbformat_minor": 2
}
